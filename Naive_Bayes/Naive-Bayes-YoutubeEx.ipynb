{
 "cells": [
  {
   "cell_type": "code",
   "execution_count": 7,
   "metadata": {},
   "outputs": [],
   "source": [
    "# Tuto naive bayes\n",
    "\n",
    "import numpy as np\n",
    "import pandas as pd\n",
    "import glob \n",
    "from sklearn.feature_extraction.text import CountVectorizer\n",
    "\n"
   ]
  },
  {
   "cell_type": "code",
   "execution_count": 3,
   "metadata": {},
   "outputs": [
    {
     "data": {
      "text/plain": [
       "['data\\\\Youtube01.csv',\n",
       " 'data\\\\Youtube02.csv',\n",
       " 'data\\\\Youtube03.csv',\n",
       " 'data\\\\Youtube04.csv',\n",
       " 'data\\\\Youtube05.csv']"
      ]
     },
     "execution_count": 3,
     "metadata": {},
     "output_type": "execute_result"
    }
   ],
   "source": [
    "# 1- load data\n",
    "files=glob.glob('data\\\\*.csv')\n",
    "files"
   ]
  },
  {
   "cell_type": "code",
   "execution_count": 4,
   "metadata": {},
   "outputs": [],
   "source": [
    "all_df=[]\n",
    "for i in files :\n",
    "    all_df.append(pd.read_csv(i))\n",
    "\n",
    "data = pd.concat(all_df, axis=0, ignore_index=True)"
   ]
  },
  {
   "cell_type": "code",
   "execution_count": 5,
   "metadata": {},
   "outputs": [
    {
     "data": {
      "text/plain": [
       "COMMENT_ID      0\n",
       "AUTHOR          0\n",
       "DATE          245\n",
       "CONTENT         0\n",
       "CLASS           0\n",
       "dtype: int64"
      ]
     },
     "execution_count": 5,
     "metadata": {},
     "output_type": "execute_result"
    }
   ],
   "source": [
    "data.isnull().sum() #to check is there is null values in the data set, applying the sum gives us the number of null val"
   ]
  },
  {
   "cell_type": "code",
   "execution_count": 6,
   "metadata": {},
   "outputs": [
    {
     "data": {
      "text/plain": [
       "1    1004\n",
       "0     951\n",
       "Name: CLASS, dtype: int64"
      ]
     },
     "execution_count": 6,
     "metadata": {},
     "output_type": "execute_result"
    }
   ],
   "source": [
    "data['CLASS'].value_counts() # to see how much hums and spams we have"
   ]
  },
  {
   "cell_type": "markdown",
   "metadata": {},
   "source": [
    "Naive Bayes is adapted to balanced datasets so for (1004,951) it is good "
   ]
  },
  {
   "cell_type": "code",
   "execution_count": 9,
   "metadata": {},
   "outputs": [
    {
     "name": "stdout",
     "output_type": "stream",
     "text": [
      "[[1 2 1 1 1]]\n"
     ]
    },
    {
     "data": {
      "text/plain": [
       "array(['darling', 'good', 'hello', 'morning', 'my'], dtype=object)"
      ]
     },
     "execution_count": 9,
     "metadata": {},
     "output_type": "execute_result"
    }
   ],
   "source": [
    "msg=['Hello my darling good good morning']\n",
    "countV= CountVectorizer() \n",
    "countV.fit(msg)\n",
    "print(countV.transform(msg).toarray())   # tranform is for testing the model trained before\n",
    "countV.get_feature_names_out()"
   ]
  },
  {
   "cell_type": "markdown",
   "metadata": {},
   "source": [
    "Count Vectorizer is a class that creates a list that contains the words (strings) composed from 2 or more letters and give how much times does this word appear in the sentence"
   ]
  },
  {
   "cell_type": "code",
   "execution_count": 12,
   "metadata": {},
   "outputs": [
    {
     "name": "stdout",
     "output_type": "stream",
     "text": [
      "[[0 1 1 0 0]]\n"
     ]
    }
   ],
   "source": [
    "print(countV.transform(['Hello baby boy good evening']).toarray()) # doesnt take into consideration the capital letters"
   ]
  },
  {
   "cell_type": "code",
   "execution_count": 15,
   "metadata": {},
   "outputs": [
    {
     "name": "stdout",
     "output_type": "stream",
     "text": [
      "[[1 1 0 1 0]\n",
      " [1 0 1 0 1]]\n"
     ]
    },
    {
     "data": {
      "text/plain": [
       "array(['haha', 'hihi', 'hiiii', 'huhu', 'hyhy'], dtype=object)"
      ]
     },
     "execution_count": 15,
     "metadata": {},
     "output_type": "execute_result"
    }
   ],
   "source": [
    "he=['Hihi huhu haha','haha hyhy hiiii']\n",
    "print(countV.fit_transform(he).toarray())   # we can fit andtransform the model on 2 different strings and it treats em \n",
    "countV.get_feature_names_out()                                           # separaly"
   ]
  }
 ],
 "metadata": {
  "kernelspec": {
   "display_name": "Python 3.9.12 ('base')",
   "language": "python",
   "name": "python3"
  },
  "language_info": {
   "codemirror_mode": {
    "name": "ipython",
    "version": 3
   },
   "file_extension": ".py",
   "mimetype": "text/x-python",
   "name": "python",
   "nbconvert_exporter": "python",
   "pygments_lexer": "ipython3",
   "version": "3.9.12"
  },
  "orig_nbformat": 4,
  "vscode": {
   "interpreter": {
    "hash": "9465493d991c10192be70692998c1f839aa44a98ea441dac77f59407aba251ff"
   }
  }
 },
 "nbformat": 4,
 "nbformat_minor": 2
}
